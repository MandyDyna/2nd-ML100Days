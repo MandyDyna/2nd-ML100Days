{
 "cells": [
  {
   "cell_type": "markdown",
   "metadata": {},
   "source": [
    "## Work\n",
    "1. 請嘗試寫一個 callback 用來記錄各類別在訓練過程中，對驗證集的 True Positive 與 True Negative"
   ]
  },
  {
   "cell_type": "code",
   "execution_count": 1,
   "metadata": {},
   "outputs": [
    {
     "name": "stderr",
     "output_type": "stream",
     "text": [
      "Using TensorFlow backend.\n"
     ]
    }
   ],
   "source": [
    "import os\n",
    "import keras\n",
    "\n",
    "# Disable GPU\n",
    "os.environ[\"CUDA_VISIBLE_DEVICES\"] = \"\""
   ]
  },
  {
   "cell_type": "code",
   "execution_count": 2,
   "metadata": {},
   "outputs": [],
   "source": [
    "train, test = keras.datasets.cifar10.load_data()"
   ]
  },
  {
   "cell_type": "code",
   "execution_count": 3,
   "metadata": {},
   "outputs": [],
   "source": [
    "## 資料前處理\n",
    "def preproc_x(x, flatten=True):\n",
    "    x = x / 255.\n",
    "    if flatten:\n",
    "        x = x.reshape((len(x), -1))\n",
    "    return x\n",
    "\n",
    "def preproc_y(y, num_classes=10):\n",
    "    if y.shape[-1] == 1:\n",
    "        y = keras.utils.to_categorical(y, num_classes)\n",
    "    return y    "
   ]
  },
  {
   "cell_type": "code",
   "execution_count": 4,
   "metadata": {},
   "outputs": [],
   "source": [
    "x_train, y_train = train\n",
    "x_test, y_test = test\n",
    "\n",
    "# Preproc the inputs\n",
    "x_train = preproc_x(x_train)\n",
    "x_test = preproc_x(x_test)\n",
    "\n",
    "# Preprc the outputs\n",
    "y_train = preproc_y(y_train)\n",
    "y_test = preproc_y(y_test)"
   ]
  },
  {
   "cell_type": "code",
   "execution_count": 6,
   "metadata": {},
   "outputs": [],
   "source": [
    "from keras.layers import BatchNormalization\n",
    "def build_mlp(input_shape, output_units=10, num_neurons=[512, 256, 128]):\n",
    "    input_layer = keras.layers.Input(input_shape)\n",
    "    \n",
    "    for i, n_units in enumerate(num_neurons):\n",
    "        if i == 0:\n",
    "            x = keras.layers.Dense(units=n_units, \n",
    "                                   activation=\"relu\", \n",
    "                                   name=\"hidden_layer\"+str(i+1))(input_layer)\n",
    "            x = BatchNormalization()(x)\n",
    "        else:\n",
    "            x = keras.layers.Dense(units=n_units, \n",
    "                                   activation=\"relu\", \n",
    "                                   name=\"hidden_layer\"+str(i+1))(x)\n",
    "            x = BatchNormalization()(x)\n",
    "    \n",
    "    out = keras.layers.Dense(units=output_units, activation=\"softmax\", name=\"output\")(x)\n",
    "    \n",
    "    model = keras.models.Model(inputs=[input_layer], outputs=[out])\n",
    "    return model"
   ]
  },
  {
   "cell_type": "code",
   "execution_count": 5,
   "metadata": {},
   "outputs": [],
   "source": [
    "## 超參數設定\n",
    "LEARNING_RATE = 1e-3\n",
    "EPOCHS = 25\n",
    "BATCH_SIZE = 1024\n",
    "MOMENTUM = 0.95"
   ]
  },
  {
   "cell_type": "code",
   "execution_count": 34,
   "metadata": {},
   "outputs": [],
   "source": [
    "# 載入 Callbacks\n",
    "from keras.callbacks import Callback\n",
    "import keras.backend as K\n",
    "import numpy as np\n",
    "\n",
    "# Record_fp_tp\n",
    "class Record_tp_tn(Callback):\n",
    "    \"\"\"Code Here\n",
    "    撰寫一個紀錄 ture positive 與 true negative 數量的 callbacks    \n",
    "    \"\"\"\n",
    "    def on_train_begin(self, epoch, logs = {}):\n",
    "        logs = logs or {}\n",
    "        record_items = [\"val_auc\", \"val_fp\", \"val_fn\", \"val_tp\", \"val_tn\"]\n",
    "        for i in record_items:\n",
    "            if i not in self.params['metrics']:\n",
    "                self.params['metrics'].append(i)\n",
    "    \n",
    "    def on_epoch_end(self, epoch, logs = {}, thres=0.5):\n",
    "        logs = logs or {}\n",
    "        y_true = self.validation_data[1].argmax(axis = 1)\n",
    "        y_pred = self.model.predict(self.validation_data[0])\n",
    "        y_pred = (y_pred[:, 1] >= thres) * 1\n",
    "        \n",
    "        y_pred_pos = np.round(np.clip(y_pred, 0, 1))\n",
    "        y_pred_neg = 1 - y_pred_pos\n",
    "        y_pos = np.round(np.clip(y_true, 0, 1))\n",
    "        y_neg = 1 - y_pos\n",
    "        \n",
    "        logs[\"val_tp\"] = np.sum(y_pos * y_pred_pos)\n",
    "        logs[\"val_tn\"] = np.sum(y_neg * y_pred_neg)\n",
    "        \n",
    "rec_tptn = Record_tp_tn()"
   ]
  },
  {
   "cell_type": "code",
   "execution_count": 35,
   "metadata": {
    "scrolled": true
   },
   "outputs": [
    {
     "name": "stdout",
     "output_type": "stream",
     "text": [
      "_________________________________________________________________\n",
      "Layer (type)                 Output Shape              Param #   \n",
      "=================================================================\n",
      "input_4 (InputLayer)         (None, 3072)              0         \n",
      "_________________________________________________________________\n",
      "hidden_layer1 (Dense)        (None, 512)               1573376   \n",
      "_________________________________________________________________\n",
      "batch_normalization_10 (Batc (None, 512)               2048      \n",
      "_________________________________________________________________\n",
      "hidden_layer2 (Dense)        (None, 256)               131328    \n",
      "_________________________________________________________________\n",
      "batch_normalization_11 (Batc (None, 256)               1024      \n",
      "_________________________________________________________________\n",
      "hidden_layer3 (Dense)        (None, 128)               32896     \n",
      "_________________________________________________________________\n",
      "batch_normalization_12 (Batc (None, 128)               512       \n",
      "_________________________________________________________________\n",
      "output (Dense)               (None, 10)                1290      \n",
      "=================================================================\n",
      "Total params: 1,742,474\n",
      "Trainable params: 1,740,682\n",
      "Non-trainable params: 1,792\n",
      "_________________________________________________________________\n",
      "Train on 50000 samples, validate on 10000 samples\n",
      "Epoch 1/25\n",
      "50000/50000 [==============================] - 7s 130us/step - loss: 2.2545 - acc: 0.2579 - val_loss: 2.0664 - val_acc: 0.3301\n",
      "Epoch 2/25\n",
      "50000/50000 [==============================] - 5s 99us/step - loss: 1.7515 - acc: 0.3927 - val_loss: 1.8432 - val_acc: 0.3804\n",
      "Epoch 3/25\n",
      "50000/50000 [==============================] - 5s 98us/step - loss: 1.6194 - acc: 0.4348 - val_loss: 1.6869 - val_acc: 0.4146\n",
      "Epoch 4/25\n",
      "50000/50000 [==============================] - 5s 101us/step - loss: 1.5426 - acc: 0.4598 - val_loss: 1.6344 - val_acc: 0.4297\n",
      "Epoch 5/25\n",
      "50000/50000 [==============================] - 5s 102us/step - loss: 1.4870 - acc: 0.4809 - val_loss: 1.5962 - val_acc: 0.4389\n",
      "Epoch 6/25\n",
      "50000/50000 [==============================] - 5s 99us/step - loss: 1.4422 - acc: 0.4964 - val_loss: 1.5749 - val_acc: 0.4449\n",
      "Epoch 7/25\n",
      "50000/50000 [==============================] - 5s 104us/step - loss: 1.4039 - acc: 0.5102 - val_loss: 1.5593 - val_acc: 0.4548\n",
      "Epoch 8/25\n",
      "50000/50000 [==============================] - 5s 103us/step - loss: 1.3672 - acc: 0.5242 - val_loss: 1.5594 - val_acc: 0.4556\n",
      "Epoch 9/25\n",
      "50000/50000 [==============================] - 5s 103us/step - loss: 1.3366 - acc: 0.5349 - val_loss: 1.5217 - val_acc: 0.4645\n",
      "Epoch 10/25\n",
      "50000/50000 [==============================] - 5s 102us/step - loss: 1.3051 - acc: 0.5459 - val_loss: 1.5022 - val_acc: 0.4682\n",
      "Epoch 11/25\n",
      "50000/50000 [==============================] - 5s 103us/step - loss: 1.2770 - acc: 0.5570 - val_loss: 1.4993 - val_acc: 0.4706\n",
      "Epoch 12/25\n",
      "50000/50000 [==============================] - 5s 103us/step - loss: 1.2516 - acc: 0.5650 - val_loss: 1.4806 - val_acc: 0.4751\n",
      "Epoch 13/25\n",
      "50000/50000 [==============================] - 5s 103us/step - loss: 1.2254 - acc: 0.5747 - val_loss: 1.5048 - val_acc: 0.4705\n",
      "Epoch 14/25\n",
      "50000/50000 [==============================] - 5s 103us/step - loss: 1.2025 - acc: 0.5837 - val_loss: 1.4732 - val_acc: 0.4825\n",
      "Epoch 15/25\n",
      "50000/50000 [==============================] - 5s 104us/step - loss: 1.1775 - acc: 0.5934 - val_loss: 1.4723 - val_acc: 0.4785\n",
      "Epoch 16/25\n",
      "50000/50000 [==============================] - 5s 106us/step - loss: 1.1521 - acc: 0.6036 - val_loss: 1.4660 - val_acc: 0.4819\n",
      "Epoch 17/25\n",
      "50000/50000 [==============================] - 5s 107us/step - loss: 1.1319 - acc: 0.6099 - val_loss: 1.4624 - val_acc: 0.4874\n",
      "Epoch 18/25\n",
      "50000/50000 [==============================] - 6s 112us/step - loss: 1.1086 - acc: 0.6194 - val_loss: 1.4607 - val_acc: 0.4899\n",
      "Epoch 19/25\n",
      "50000/50000 [==============================] - 6s 111us/step - loss: 1.0859 - acc: 0.6304 - val_loss: 1.4697 - val_acc: 0.4883\n",
      "Epoch 20/25\n",
      "50000/50000 [==============================] - 5s 107us/step - loss: 1.0649 - acc: 0.6374 - val_loss: 1.4603 - val_acc: 0.4873\n",
      "Epoch 21/25\n",
      "50000/50000 [==============================] - 5s 107us/step - loss: 1.0440 - acc: 0.6447 - val_loss: 1.4725 - val_acc: 0.4909\n",
      "Epoch 22/25\n",
      "50000/50000 [==============================] - 5s 107us/step - loss: 1.0238 - acc: 0.6526 - val_loss: 1.4661 - val_acc: 0.4908\n",
      "Epoch 23/25\n",
      "50000/50000 [==============================] - 5s 108us/step - loss: 1.0035 - acc: 0.6590 - val_loss: 1.4635 - val_acc: 0.4872\n",
      "Epoch 24/25\n",
      "50000/50000 [==============================] - 5s 110us/step - loss: 0.9819 - acc: 0.6673 - val_loss: 1.4661 - val_acc: 0.4951\n",
      "Epoch 25/25\n",
      "50000/50000 [==============================] - 5s 110us/step - loss: 0.9609 - acc: 0.6773 - val_loss: 1.4750 - val_acc: 0.4950\n"
     ]
    }
   ],
   "source": [
    "model = build_mlp(input_shape=x_train.shape[1:])\n",
    "model.summary()\n",
    "optimizer = keras.optimizers.SGD(lr=LEARNING_RATE, nesterov=True, momentum=MOMENTUM)\n",
    "model.compile(loss=\"categorical_crossentropy\", metrics=[\"accuracy\"], optimizer=optimizer)\n",
    "\n",
    "\"\"\"Code Here\n",
    "將 callbacks 放入模型訓練流程中\n",
    "\"\"\"\n",
    "model.fit(x_train, y_train, \n",
    "          epochs=EPOCHS, \n",
    "          batch_size=BATCH_SIZE, \n",
    "          validation_data=(x_test, y_test), \n",
    "          shuffle=True,\n",
    "          callbacks=[rec_tptn]\n",
    "         )\n",
    "\n",
    "# Collect results\n",
    "train_loss = model.history.history[\"loss\"]\n",
    "valid_loss = model.history.history[\"val_loss\"]\n",
    "train_acc = model.history.history[\"acc\"]\n",
    "valid_acc = model.history.history[\"val_acc\"]\n",
    "\n",
    "\"\"\"Code Here\n",
    "將 tp/tn 從訓練完的模型中取出\n",
    "\"\"\"\n",
    "valid_tp = model.history.history['val_tp']\n",
    "valid_tn = model.history.history['val_tn']"
   ]
  },
  {
   "cell_type": "code",
   "execution_count": 36,
   "metadata": {},
   "outputs": [
    {
     "data": {
      "image/png": "[encoded data removed]",
      "text/plain": [
       "<Figure size 432x288 with 1 Axes>"
      ]
     },
     "metadata": {
      "needs_background": "light"
     },
     "output_type": "display_data"
    },
    {
     "data": {
      "image/png": "[encoded data removed]",
      "text/plain": [
       "<Figure size 432x288 with 1 Axes>"
      ]
     },
     "metadata": {
      "needs_background": "light"
     },
     "output_type": "display_data"
    },
    {
     "data": {
      "image/png": "[encoded data removed]",
      "text/plain": [
       "<Figure size 432x288 with 1 Axes>"
      ]
     },
     "metadata": {
      "needs_background": "light"
     },
     "output_type": "display_data"
    }
   ],
   "source": [
    "import matplotlib.pyplot as plt\n",
    "%matplotlib inline\n",
    "\n",
    "plt.plot(range(len(train_loss)), train_loss, label=\"train loss\")\n",
    "plt.plot(range(len(valid_loss)), valid_loss, label=\"valid loss\")\n",
    "plt.legend()\n",
    "plt.title(\"Loss\")\n",
    "plt.show()\n",
    "\n",
    "plt.plot(range(len(train_acc)), train_acc, label=\"train accuracy\")\n",
    "plt.plot(range(len(valid_acc)), valid_acc, label=\"valid accuracy\")\n",
    "plt.legend()\n",
    "plt.title(\"Accuracy\")\n",
    "plt.show()\n",
    "\n",
    "plt.plot(range(len(valid_tp)), valid_tp, label=\"valid tp\", color=\"navy\")\n",
    "plt.plot(range(len(valid_tn)), valid_tn, label=\"valid tn\", color=\"red\")\n",
    "plt.legend()\n",
    "plt.title(\"True positives and True Negatives\")\n",
    "plt.show()\n"
   ]
  },
  {
   "cell_type": "code",
   "execution_count": 38,
   "metadata": {},
   "outputs": [
    {
     "data": {
      "text/plain": [
       "[978,\n",
       " 975,\n",
       " 982,\n",
       " 985,\n",
       " 990,\n",
       " 990,\n",
       " 986,\n",
       " 984,\n",
       " 983,\n",
       " 988,\n",
       " 983,\n",
       " 987,\n",
       " 993,\n",
       " 989,\n",
       " 988,\n",
       " 990,\n",
       " 986,\n",
       " 988,\n",
       " 984,\n",
       " 987,\n",
       " 987,\n",
       " 986,\n",
       " 986,\n",
       " 984,\n",
       " 978]"
      ]
     },
     "execution_count": 38,
     "metadata": {},
     "output_type": "execute_result"
    }
   ],
   "source": [
    "valid_tn"
   ]
  }
 ],
 "metadata": {
  "kernelspec": {
   "display_name": "Python 3",
   "language": "python",
   "name": "python3"
  },
  "language_info": {
   "codemirror_mode": {
    "name": "ipython",
    "version": 3
   },
   "file_extension": ".py",
   "mimetype": "text/x-python",
   "name": "python",
   "nbconvert_exporter": "python",
   "pygments_lexer": "ipython3",
   "version": "3.7.3"
  }
 },
 "nbformat": 4,
 "nbformat_minor": 2
}
