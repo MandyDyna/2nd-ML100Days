{
 "cells": [
  {
   "cell_type": "markdown",
   "metadata": {},
   "source": [
    "## Work\n",
    "1. 請嘗試將 preproc_x 替換成以每筆資料的 min/max 進行標準化至 -1 ~ 1 間，再進行訓練\n",
    "2. 請嘗試將 mlp 疊更深 (e.g 5~10 層)，進行訓練後觀察 learning curve 的走勢\n",
    "3. (optional) 請改用 GPU 進行訓練 (如果你有 GPU 的話)，比較使用 CPU 與 GPU 的訓練速度"
   ]
  },
  {
   "cell_type": "code",
   "execution_count": 1,
   "metadata": {},
   "outputs": [],
   "source": [
    "## \n",
    "\"\"\"\n",
    "Your code here (optional)\n",
    "確認硬體資源\n",
    "\"\"\"\n"
   ]
  },
  {
   "cell_type": "code",
   "execution_count": 1,
   "metadata": {},
   "outputs": [
    {
     "name": "stderr",
     "output_type": "stream",
     "text": [
      "Using TensorFlow backend.\n"
     ]
    }
   ],
   "source": [
    "import os\n",
    "import keras\n",
    "\n",
    "# 請嘗試設定 GPU：os.environ\n"
   ]
  },
  {
   "cell_type": "code",
   "execution_count": 23,
   "metadata": {},
   "outputs": [],
   "source": [
    "train, test = keras.datasets.cifar10.load_data()"
   ]
  },
  {
   "cell_type": "code",
   "execution_count": 27,
   "metadata": {},
   "outputs": [],
   "source": [
    "## 資料前處理\n",
    "\"\"\"\n",
    "Your code here\n",
    "\"\"\"\n",
    "from sklearn.preprocessing import MinMaxScaler\n",
    "\n",
    "def preproc_x(x, flatten=True):\n",
    "    if flatten:\n",
    "        x = x.reshape((len(x), -1))\n",
    "    scaler = MinMaxScaler(feature_range=(-1, 1))\n",
    "    return scaler.fit_transform(x)\n",
    "\n",
    "def preproc_y(y, num_classes=10):\n",
    "    if y.shape[-1] == 1:\n",
    "        y = keras.utils.to_categorical(y, num_classes)\n",
    "    return y "
   ]
  },
  {
   "cell_type": "code",
   "execution_count": 28,
   "metadata": {},
   "outputs": [],
   "source": [
    "x_train, y_train = train\n",
    "x_test, y_test = test\n",
    "\n",
    "# Preproc the inputs\n",
    "x_train = preproc_x(x_train)\n",
    "x_test = preproc_x(x_test)\n",
    "\n",
    "# Preprc the outputs\n",
    "y_train = preproc_y(y_train)\n",
    "y_test = preproc_y(y_test)"
   ]
  },
  {
   "cell_type": "code",
   "execution_count": 36,
   "metadata": {},
   "outputs": [
    {
     "name": "stdout",
     "output_type": "stream",
     "text": [
      "WARNING:tensorflow:From C:\\Users\\User\\Anaconda3\\envs\\keras37\\lib\\site-packages\\tensorflow\\python\\framework\\op_def_library.py:263: colocate_with (from tensorflow.python.framework.ops) is deprecated and will be removed in a future version.\n",
      "Instructions for updating:\n",
      "Colocations handled automatically by placer.\n",
      "_________________________________________________________________\n",
      "Layer (type)                 Output Shape              Param #   \n",
      "=================================================================\n",
      "input_1 (InputLayer)         (None, 3072)              0         \n",
      "_________________________________________________________________\n",
      "hidden_layer1 (Dense)        (None, 512)               1573376   \n",
      "_________________________________________________________________\n",
      "hidden_layer2 (Dense)        (None, 256)               131328    \n",
      "_________________________________________________________________\n",
      "hidden_layer3 (Dense)        (None, 128)               32896     \n",
      "_________________________________________________________________\n",
      "hidden_layer4 (Dense)        (None, 64)                8256      \n",
      "_________________________________________________________________\n",
      "hidden_layer5 (Dense)        (None, 32)                2080      \n",
      "_________________________________________________________________\n",
      "hidden_layer6 (Dense)        (None, 16)                528       \n",
      "_________________________________________________________________\n",
      "output (Dense)               (None, 10)                170       \n",
      "=================================================================\n",
      "Total params: 1,748,634\n",
      "Trainable params: 1,748,634\n",
      "Non-trainable params: 0\n",
      "_________________________________________________________________\n"
     ]
    }
   ],
   "source": [
    "\"\"\"Code Here\n",
    "建立你的神經網路\n",
    "\"\"\"\n",
    "def build_mlp(input_shape, output_units=10, num_neurons=[512, 256, 128, 64, 32, 16]):\n",
    "    input_layer = keras.layers.Input(input_shape)\n",
    "    \n",
    "    for i, n_units in enumerate(num_neurons):\n",
    "        if i == 0:\n",
    "            x = keras.layers.Dense(units=n_units, activation=\"relu\", name=\"hidden_layer\"+str(i+1))(input_layer)\n",
    "        else:\n",
    "            x = keras.layers.Dense(units=n_units, activation=\"relu\", name=\"hidden_layer\"+str(i+1))(x)\n",
    "    \n",
    "    out = keras.layers.Dense(units=output_units, activation=\"softmax\", name=\"output\")(x)\n",
    "    \n",
    "    model = keras.models.Model(inputs=[input_layer], outputs=[out])\n",
    "    return model\n",
    "\n",
    "model = build_mlp(input_shape=x_train.shape[1:])\n",
    "model.summary()"
   ]
  },
  {
   "cell_type": "code",
   "execution_count": 37,
   "metadata": {},
   "outputs": [],
   "source": [
    "## 超參數設定\n",
    "LEARNING_RATE = 0.001\n",
    "EPOCHS = 100\n",
    "BATCH_SIZE = 256"
   ]
  },
  {
   "cell_type": "code",
   "execution_count": 38,
   "metadata": {},
   "outputs": [],
   "source": [
    "optimizer = keras.optimizers.Adam(lr=LEARNING_RATE)\n",
    "model.compile(loss=\"categorical_crossentropy\", metrics=[\"accuracy\"], optimizer=optimizer)"
   ]
  },
  {
   "cell_type": "code",
   "execution_count": 39,
   "metadata": {
    "scrolled": true
   },
   "outputs": [
    {
     "name": "stdout",
     "output_type": "stream",
     "text": [
      "WARNING:tensorflow:From C:\\Users\\User\\Anaconda3\\envs\\keras37\\lib\\site-packages\\tensorflow\\python\\ops\\math_ops.py:3066: to_int32 (from tensorflow.python.ops.math_ops) is deprecated and will be removed in a future version.\n",
      "Instructions for updating:\n",
      "Use tf.cast instead.\n",
      "Train on 50000 samples, validate on 10000 samples\n",
      "Epoch 1/100\n",
      "50000/50000 [==============================] - 8s 168us/step - loss: 1.8298 - acc: 0.3507 - val_loss: 1.6439 - val_acc: 0.4244\n",
      "Epoch 2/100\n",
      "50000/50000 [==============================] - 8s 153us/step - loss: 1.5488 - acc: 0.4571 - val_loss: 1.5041 - val_acc: 0.4738\n",
      "Epoch 3/100\n",
      "50000/50000 [==============================] - 8s 152us/step - loss: 1.4156 - acc: 0.5043 - val_loss: 1.4199 - val_acc: 0.4988\n",
      "Epoch 4/100\n",
      "50000/50000 [==============================] - 7s 147us/step - loss: 1.3269 - acc: 0.5347 - val_loss: 1.4002 - val_acc: 0.5121\n",
      "Epoch 5/100\n",
      "50000/50000 [==============================] - 7s 146us/step - loss: 1.2393 - acc: 0.5653 - val_loss: 1.3785 - val_acc: 0.5211\n",
      "Epoch 6/100\n",
      "50000/50000 [==============================] - 7s 146us/step - loss: 1.1648 - acc: 0.5933 - val_loss: 1.3866 - val_acc: 0.5243\n",
      "Epoch 7/100\n",
      "50000/50000 [==============================] - 7s 148us/step - loss: 1.0991 - acc: 0.6117 - val_loss: 1.3839 - val_acc: 0.5295\n",
      "Epoch 8/100\n",
      "50000/50000 [==============================] - 8s 154us/step - loss: 1.0184 - acc: 0.6401 - val_loss: 1.3980 - val_acc: 0.5360\n",
      "Epoch 9/100\n",
      "50000/50000 [==============================] - 8s 163us/step - loss: 0.9484 - acc: 0.6659 - val_loss: 1.3867 - val_acc: 0.5409\n",
      "Epoch 10/100\n",
      "50000/50000 [==============================] - 8s 163us/step - loss: 0.8950 - acc: 0.6820 - val_loss: 1.4424 - val_acc: 0.5370\n",
      "Epoch 11/100\n",
      "50000/50000 [==============================] - 8s 158us/step - loss: 0.8249 - acc: 0.7089 - val_loss: 1.4905 - val_acc: 0.5313\n",
      "Epoch 12/100\n",
      "50000/50000 [==============================] - 8s 153us/step - loss: 0.7626 - acc: 0.7314 - val_loss: 1.5217 - val_acc: 0.5328\n",
      "Epoch 13/100\n",
      "50000/50000 [==============================] - 8s 150us/step - loss: 0.7032 - acc: 0.7503 - val_loss: 1.5852 - val_acc: 0.5407\n",
      "Epoch 14/100\n",
      "50000/50000 [==============================] - 8s 154us/step - loss: 0.6527 - acc: 0.7682 - val_loss: 1.6353 - val_acc: 0.5368\n",
      "Epoch 15/100\n",
      "50000/50000 [==============================] - 8s 155us/step - loss: 0.5991 - acc: 0.7892 - val_loss: 1.6862 - val_acc: 0.5342\n",
      "Epoch 16/100\n",
      "50000/50000 [==============================] - 8s 152us/step - loss: 0.5524 - acc: 0.8036 - val_loss: 1.7586 - val_acc: 0.5412\n",
      "Epoch 17/100\n",
      "50000/50000 [==============================] - 8s 153us/step - loss: 0.5098 - acc: 0.8208 - val_loss: 1.8578 - val_acc: 0.5363\n",
      "Epoch 18/100\n",
      "50000/50000 [==============================] - 8s 154us/step - loss: 0.4655 - acc: 0.8351 - val_loss: 1.9586 - val_acc: 0.5324\n",
      "Epoch 19/100\n",
      "50000/50000 [==============================] - 8s 161us/step - loss: 0.4311 - acc: 0.8492 - val_loss: 2.0145 - val_acc: 0.5332\n",
      "Epoch 20/100\n",
      "50000/50000 [==============================] - 9s 173us/step - loss: 0.4005 - acc: 0.8598 - val_loss: 2.1366 - val_acc: 0.5393\n",
      "Epoch 21/100\n",
      "50000/50000 [==============================] - 8s 161us/step - loss: 0.3822 - acc: 0.8662 - val_loss: 2.1940 - val_acc: 0.5349\n",
      "Epoch 22/100\n",
      "50000/50000 [==============================] - 8s 166us/step - loss: 0.3502 - acc: 0.8782 - val_loss: 2.2340 - val_acc: 0.5295\n",
      "Epoch 23/100\n",
      "50000/50000 [==============================] - 8s 166us/step - loss: 0.3290 - acc: 0.8860 - val_loss: 2.3214 - val_acc: 0.5298\n",
      "Epoch 24/100\n",
      "50000/50000 [==============================] - 8s 165us/step - loss: 0.3074 - acc: 0.8920 - val_loss: 2.4646 - val_acc: 0.5289\n",
      "Epoch 25/100\n",
      "50000/50000 [==============================] - 8s 157us/step - loss: 0.2739 - acc: 0.9042 - val_loss: 2.4589 - val_acc: 0.5334\n",
      "Epoch 26/100\n",
      "50000/50000 [==============================] - 8s 160us/step - loss: 0.2569 - acc: 0.9109 - val_loss: 2.7250 - val_acc: 0.5216\n",
      "Epoch 27/100\n",
      "50000/50000 [==============================] - 8s 159us/step - loss: 0.2659 - acc: 0.9069 - val_loss: 2.6814 - val_acc: 0.5313\n",
      "Epoch 28/100\n",
      "50000/50000 [==============================] - 8s 158us/step - loss: 0.2392 - acc: 0.9175 - val_loss: 2.5967 - val_acc: 0.5317\n",
      "Epoch 29/100\n",
      "50000/50000 [==============================] - 8s 170us/step - loss: 0.2144 - acc: 0.9254 - val_loss: 2.8477 - val_acc: 0.5257\n",
      "Epoch 30/100\n",
      "50000/50000 [==============================] - 8s 169us/step - loss: 0.2241 - acc: 0.9232 - val_loss: 2.9017 - val_acc: 0.5314\n",
      "Epoch 31/100\n",
      "50000/50000 [==============================] - 9s 171us/step - loss: 0.2054 - acc: 0.9292 - val_loss: 2.8593 - val_acc: 0.5297\n",
      "Epoch 32/100\n",
      "50000/50000 [==============================] - 9s 171us/step - loss: 0.2107 - acc: 0.9275 - val_loss: 2.9410 - val_acc: 0.5261\n",
      "Epoch 33/100\n",
      "50000/50000 [==============================] - 9s 172us/step - loss: 0.1814 - acc: 0.9377 - val_loss: 2.9845 - val_acc: 0.5358\n",
      "Epoch 34/100\n",
      "50000/50000 [==============================] - 9s 174us/step - loss: 0.2013 - acc: 0.9317 - val_loss: 2.9176 - val_acc: 0.5246\n",
      "Epoch 35/100\n",
      "50000/50000 [==============================] - 9s 176us/step - loss: 0.1840 - acc: 0.9371 - val_loss: 2.9651 - val_acc: 0.5312\n",
      "Epoch 36/100\n",
      "50000/50000 [==============================] - 10s 200us/step - loss: 0.1688 - acc: 0.9415 - val_loss: 3.0298 - val_acc: 0.5332\n",
      "Epoch 37/100\n",
      "50000/50000 [==============================] - 9s 179us/step - loss: 0.1467 - acc: 0.9503 - val_loss: 3.1970 - val_acc: 0.5271\n",
      "Epoch 38/100\n",
      "50000/50000 [==============================] - 9s 183us/step - loss: 0.1829 - acc: 0.9379 - val_loss: 3.1271 - val_acc: 0.5242\n",
      "Epoch 39/100\n",
      "50000/50000 [==============================] - 9s 175us/step - loss: 0.1631 - acc: 0.9452 - val_loss: 3.1610 - val_acc: 0.5277\n",
      "Epoch 40/100\n",
      "50000/50000 [==============================] - 9s 176us/step - loss: 0.1581 - acc: 0.9459 - val_loss: 3.0919 - val_acc: 0.5334\n",
      "Epoch 41/100\n",
      "50000/50000 [==============================] - 9s 179us/step - loss: 0.1492 - acc: 0.9501 - val_loss: 3.2824 - val_acc: 0.5294\n",
      "Epoch 42/100\n",
      "50000/50000 [==============================] - 9s 177us/step - loss: 0.1403 - acc: 0.9524 - val_loss: 3.3603 - val_acc: 0.5326\n",
      "Epoch 43/100\n",
      "50000/50000 [==============================] - 9s 183us/step - loss: 0.1511 - acc: 0.9496 - val_loss: 3.1747 - val_acc: 0.5307\n",
      "Epoch 44/100\n",
      "50000/50000 [==============================] - 10s 193us/step - loss: 0.1371 - acc: 0.9538 - val_loss: 3.4001 - val_acc: 0.5284\n",
      "Epoch 45/100\n",
      "50000/50000 [==============================] - 9s 184us/step - loss: 0.1344 - acc: 0.9547 - val_loss: 3.5499 - val_acc: 0.5278\n",
      "Epoch 46/100\n",
      "50000/50000 [==============================] - 10s 190us/step - loss: 0.1251 - acc: 0.9570 - val_loss: 3.3993 - val_acc: 0.5305\n",
      "Epoch 47/100\n",
      "50000/50000 [==============================] - 9s 185us/step - loss: 0.1165 - acc: 0.9613 - val_loss: 3.3493 - val_acc: 0.5286\n",
      "Epoch 48/100\n",
      "50000/50000 [==============================] - 9s 176us/step - loss: 0.1584 - acc: 0.9472 - val_loss: 3.2636 - val_acc: 0.5262\n",
      "Epoch 49/100\n",
      "50000/50000 [==============================] - 9s 171us/step - loss: 0.1233 - acc: 0.9581 - val_loss: 3.4159 - val_acc: 0.5340\n",
      "Epoch 50/100\n",
      "50000/50000 [==============================] - 9s 184us/step - loss: 0.1206 - acc: 0.9598 - val_loss: 3.4985 - val_acc: 0.5333\n",
      "Epoch 51/100\n",
      "50000/50000 [==============================] - 8s 163us/step - loss: 0.1131 - acc: 0.9614 - val_loss: 3.4269 - val_acc: 0.5295\n",
      "Epoch 52/100\n",
      "50000/50000 [==============================] - 8s 169us/step - loss: 0.1078 - acc: 0.9637 - val_loss: 3.5601 - val_acc: 0.5277\n",
      "Epoch 53/100\n",
      "50000/50000 [==============================] - 8s 168us/step - loss: 0.1251 - acc: 0.9597 - val_loss: 3.4146 - val_acc: 0.5316\n",
      "Epoch 54/100\n",
      "50000/50000 [==============================] - 9s 190us/step - loss: 0.1089 - acc: 0.9635 - val_loss: 3.4309 - val_acc: 0.5391\n",
      "Epoch 55/100\n",
      "50000/50000 [==============================] - 11s 212us/step - loss: 0.1024 - acc: 0.9661 - val_loss: 3.5624 - val_acc: 0.5291\n",
      "Epoch 56/100\n",
      "50000/50000 [==============================] - 11s 215us/step - loss: 0.1195 - acc: 0.9608 - val_loss: 3.5251 - val_acc: 0.5259\n",
      "Epoch 57/100\n"
     ]
    },
    {
     "name": "stdout",
     "output_type": "stream",
     "text": [
      "50000/50000 [==============================] - 9s 185us/step - loss: 0.1189 - acc: 0.9611 - val_loss: 3.4970 - val_acc: 0.5357\n",
      "Epoch 58/100\n",
      "50000/50000 [==============================] - 10s 199us/step - loss: 0.1174 - acc: 0.9606 - val_loss: 3.5415 - val_acc: 0.5363\n",
      "Epoch 59/100\n",
      "50000/50000 [==============================] - 9s 184us/step - loss: 0.0960 - acc: 0.9673 - val_loss: 3.6179 - val_acc: 0.5340\n",
      "Epoch 60/100\n",
      "50000/50000 [==============================] - 9s 185us/step - loss: 0.1093 - acc: 0.9636 - val_loss: 3.5047 - val_acc: 0.5281\n",
      "Epoch 61/100\n",
      "50000/50000 [==============================] - 9s 188us/step - loss: 0.1062 - acc: 0.9656 - val_loss: 3.4955 - val_acc: 0.5378\n",
      "Epoch 62/100\n",
      "50000/50000 [==============================] - 11s 210us/step - loss: 0.0845 - acc: 0.9721 - val_loss: 3.6129 - val_acc: 0.5322\n",
      "Epoch 63/100\n",
      "50000/50000 [==============================] - 9s 183us/step - loss: 0.1018 - acc: 0.9668 - val_loss: 3.5282 - val_acc: 0.5386\n",
      "Epoch 64/100\n",
      "50000/50000 [==============================] - 9s 182us/step - loss: 0.1064 - acc: 0.9653 - val_loss: 3.5370 - val_acc: 0.5286\n",
      "Epoch 65/100\n",
      "50000/50000 [==============================] - 9s 188us/step - loss: 0.0789 - acc: 0.9735 - val_loss: 3.6794 - val_acc: 0.5348\n",
      "Epoch 66/100\n",
      "50000/50000 [==============================] - 9s 179us/step - loss: 0.0986 - acc: 0.9679 - val_loss: 3.6698 - val_acc: 0.5387\n",
      "Epoch 67/100\n",
      "50000/50000 [==============================] - 8s 166us/step - loss: 0.0970 - acc: 0.9675 - val_loss: 3.6359 - val_acc: 0.5298\n",
      "Epoch 68/100\n",
      "50000/50000 [==============================] - 9s 171us/step - loss: 0.0943 - acc: 0.9687 - val_loss: 3.6402 - val_acc: 0.5426\n",
      "Epoch 69/100\n",
      "50000/50000 [==============================] - 8s 167us/step - loss: 0.0843 - acc: 0.9725 - val_loss: 3.7078 - val_acc: 0.5292\n",
      "Epoch 70/100\n",
      "50000/50000 [==============================] - 9s 183us/step - loss: 0.1033 - acc: 0.9658 - val_loss: 3.6227 - val_acc: 0.5302\n",
      "Epoch 71/100\n",
      "50000/50000 [==============================] - 10s 203us/step - loss: 0.0934 - acc: 0.9698 - val_loss: 3.7066 - val_acc: 0.5381\n",
      "Epoch 72/100\n",
      "50000/50000 [==============================] - 8s 169us/step - loss: 0.0543 - acc: 0.9821 - val_loss: 3.8270 - val_acc: 0.5387\n",
      "Epoch 73/100\n",
      "50000/50000 [==============================] - 9s 181us/step - loss: 0.0733 - acc: 0.9760 - val_loss: 3.9009 - val_acc: 0.5311\n",
      "Epoch 74/100\n",
      "50000/50000 [==============================] - 9s 177us/step - loss: 0.1046 - acc: 0.9668 - val_loss: 3.8121 - val_acc: 0.52590967 \n",
      "Epoch 75/100\n",
      "50000/50000 [==============================] - 9s 175us/step - loss: 0.0934 - acc: 0.9691 - val_loss: 3.8077 - val_acc: 0.5308\n",
      "Epoch 76/100\n",
      "50000/50000 [==============================] - 9s 189us/step - loss: 0.0985 - acc: 0.9685 - val_loss: 3.6132 - val_acc: 0.5300\n",
      "Epoch 77/100\n",
      "50000/50000 [==============================] - 9s 181us/step - loss: 0.0780 - acc: 0.9750 - val_loss: 3.6806 - val_acc: 0.5427\n",
      "Epoch 78/100\n",
      "50000/50000 [==============================] - 9s 170us/step - loss: 0.0845 - acc: 0.9721 - val_loss: 3.6700 - val_acc: 0.5364\n",
      "Epoch 79/100\n",
      "50000/50000 [==============================] - 9s 170us/step - loss: 0.0810 - acc: 0.9739 - val_loss: 3.7310 - val_acc: 0.5344\n",
      "Epoch 80/100\n",
      "50000/50000 [==============================] - 9s 171us/step - loss: 0.0580 - acc: 0.9804 - val_loss: 3.7780 - val_acc: 0.5406\n",
      "Epoch 81/100\n",
      "50000/50000 [==============================] - 8s 170us/step - loss: 0.0957 - acc: 0.9698 - val_loss: 3.7749 - val_acc: 0.5285\n",
      "Epoch 82/100\n",
      "50000/50000 [==============================] - 9s 183us/step - loss: 0.0917 - acc: 0.9708 - val_loss: 3.6981 - val_acc: 0.5351\n",
      "Epoch 83/100\n",
      "50000/50000 [==============================] - 9s 175us/step - loss: 0.0658 - acc: 0.9786 - val_loss: 3.7778 - val_acc: 0.5347\n",
      "Epoch 84/100\n",
      "50000/50000 [==============================] - 9s 178us/step - loss: 0.0770 - acc: 0.9745 - val_loss: 3.9040 - val_acc: 0.5283\n",
      "Epoch 85/100\n",
      "50000/50000 [==============================] - 9s 173us/step - loss: 0.0796 - acc: 0.9734 - val_loss: 3.6757 - val_acc: 0.5419\n",
      "Epoch 86/100\n",
      "50000/50000 [==============================] - 10s 197us/step - loss: 0.0667 - acc: 0.9781 - val_loss: 3.7870 - val_acc: 0.5331\n",
      "Epoch 87/100\n",
      "50000/50000 [==============================] - 9s 178us/step - loss: 0.0815 - acc: 0.9748 - val_loss: 3.8077 - val_acc: 0.5304\n",
      "Epoch 88/100\n",
      "50000/50000 [==============================] - 9s 173us/step - loss: 0.0689 - acc: 0.9780 - val_loss: 3.8044 - val_acc: 0.5389\n",
      "Epoch 89/100\n",
      "50000/50000 [==============================] - 9s 172us/step - loss: 0.0711 - acc: 0.9763 - val_loss: 3.7292 - val_acc: 0.5395\n",
      "Epoch 90/100\n",
      "50000/50000 [==============================] - 9s 172us/step - loss: 0.0803 - acc: 0.9743 - val_loss: 3.7651 - val_acc: 0.5267\n",
      "Epoch 91/100\n",
      "50000/50000 [==============================] - 8s 169us/step - loss: 0.0762 - acc: 0.9755 - val_loss: 3.8385 - val_acc: 0.5339\n",
      "Epoch 92/100\n",
      "50000/50000 [==============================] - 8s 169us/step - loss: 0.0598 - acc: 0.9809 - val_loss: 3.8531 - val_acc: 0.5350\n",
      "Epoch 93/100\n",
      "50000/50000 [==============================] - 8s 168us/step - loss: 0.0704 - acc: 0.9780 - val_loss: 3.8292 - val_acc: 0.5352\n",
      "Epoch 94/100\n",
      "50000/50000 [==============================] - 8s 163us/step - loss: 0.0819 - acc: 0.9735 - val_loss: 3.7824 - val_acc: 0.5383\n",
      "Epoch 95/100\n",
      "50000/50000 [==============================] - 8s 162us/step - loss: 0.0567 - acc: 0.9819 - val_loss: 3.9502 - val_acc: 0.5355\n",
      "Epoch 96/100\n",
      "50000/50000 [==============================] - 8s 159us/step - loss: 0.0718 - acc: 0.9768 - val_loss: 3.8550 - val_acc: 0.5411\n",
      "Epoch 97/100\n",
      "50000/50000 [==============================] - 8s 163us/step - loss: 0.0807 - acc: 0.9746 - val_loss: 3.8731 - val_acc: 0.5394\n",
      "Epoch 98/100\n",
      "50000/50000 [==============================] - 9s 173us/step - loss: 0.0587 - acc: 0.9808 - val_loss: 3.8133 - val_acc: 0.5327\n",
      "Epoch 99/100\n",
      "50000/50000 [==============================] - 9s 171us/step - loss: 0.0508 - acc: 0.9834 - val_loss: 3.8747 - val_acc: 0.5370\n",
      "Epoch 100/100\n",
      "50000/50000 [==============================] - 9s 180us/step - loss: 0.0951 - acc: 0.9700 - val_loss: 3.7780 - val_acc: 0.5310\n"
     ]
    },
    {
     "data": {
      "text/plain": [
       "<keras.callbacks.History at 0x2851913bef0>"
      ]
     },
     "execution_count": 39,
     "metadata": {},
     "output_type": "execute_result"
    }
   ],
   "source": [
    "model.fit(x_train, y_train, \n",
    "          epochs=EPOCHS, \n",
    "          batch_size=BATCH_SIZE, \n",
    "          validation_data=(x_test, y_test), \n",
    "          shuffle=True)"
   ]
  },
  {
   "cell_type": "code",
   "execution_count": 41,
   "metadata": {},
   "outputs": [
    {
     "data": {
      "image/png": "[encoded data removed]",
      "text/plain": [
       "<Figure size 432x288 with 1 Axes>"
      ]
     },
     "metadata": {
      "needs_background": "light"
     },
     "output_type": "display_data"
    },
    {
     "data": {
      "image/png": "[encoded data removed]",
      "text/plain": [
       "<Figure size 432x288 with 1 Axes>"
      ]
     },
     "metadata": {
      "needs_background": "light"
     },
     "output_type": "display_data"
    }
   ],
   "source": [
    "import matplotlib.pyplot as plt\n",
    "\n",
    "\n",
    "train_loss = model.history.history[\"loss\"]\n",
    "valid_loss = model.history.history[\"val_loss\"]\n",
    "\n",
    "train_acc = model.history.history[\"acc\"]\n",
    "valid_acc = model.history.history[\"val_acc\"]\n",
    "\n",
    "plt.plot(range(len(train_loss)), train_loss, label=\"train loss\")\n",
    "plt.plot(range(len(valid_loss)), valid_loss, label=\"valid loss\")\n",
    "plt.legend()\n",
    "plt.title(\"Loss\")\n",
    "plt.show()\n",
    "\n",
    "plt.plot(range(len(train_acc)), train_acc, label=\"train accuracy\")\n",
    "plt.plot(range(len(valid_acc)), valid_acc, label=\"valid accuracy\")\n",
    "plt.legend()\n",
    "plt.title(\"Accuracy\")\n",
    "plt.show()"
   ]
  },
  {
   "cell_type": "code",
   "execution_count": null,
   "metadata": {},
   "outputs": [],
   "source": []
  }
 ],
 "metadata": {
  "kernelspec": {
   "display_name": "Python 3",
   "language": "python",
   "name": "python3"
  },
  "language_info": {
   "codemirror_mode": {
    "name": "ipython",
    "version": 3
   },
   "file_extension": ".py",
   "mimetype": "text/x-python",
   "name": "python",
   "nbconvert_exporter": "python",
   "pygments_lexer": "ipython3",
   "version": "3.7.3"
  }
 },
 "nbformat": 4,
 "nbformat_minor": 2
}
