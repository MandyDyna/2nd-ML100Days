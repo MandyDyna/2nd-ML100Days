{
 "cells": [
  {
   "cell_type": "markdown",
   "metadata": {},
   "source": [
    "# 作業1"
   ]
  },
  {
   "cell_type": "markdown",
   "metadata": {},
   "source": [
    "請上 Kaggle, 在 Competitions 或 Dataset 中找一組競賽或資料並寫下："
   ]
  },
  {
   "cell_type": "markdown",
   "metadata": {},
   "source": [
    "## 1. 你選的這組資料為何重要"
   ]
  },
  {
   "cell_type": "markdown",
   "metadata": {},
   "source": [
    "google play是android用戶下載app的主要管道，現今手機相當方便，可以做很多事情，例如通話、遊戲、工作等等，在我們的生活中無所不在。\n",
    "\n",
    "如果能夠分析併發想出研究價值，應該對會對社會很有幫助。"
   ]
  },
  {
   "cell_type": "markdown",
   "metadata": {},
   "source": [
    "## 2. 資料從何而來 (tips: 譬如提供者是誰、以什麼方式蒐集)"
   ]
  },
  {
   "cell_type": "markdown",
   "metadata": {},
   "source": [
    "Kaggle的Dataset: https://www.kaggle.com/lava18/google-play-store-apps\n",
    "\n",
    "Google Play Store Apps：updated 2 months ago (Version 6)\n",
    "\n",
    "提供者Lavanya Gupta，從google play store蒐集"
   ]
  },
  {
   "cell_type": "markdown",
   "metadata": {},
   "source": [
    "## 3. 蒐集而來的資料型態為何"
   ]
  },
  {
   "cell_type": "markdown",
   "metadata": {},
   "source": [
    "是結構化的表格，CSV格式，包括以下訊息\n",
    "\n",
    "1 App: 名稱\n",
    "\n",
    "2 Category: 種類\n",
    "\n",
    "3 Rating: 總評價\n",
    "\n",
    "4 Reviews: 評論數量\n",
    "\n",
    "5 Size: 大小\n",
    "\n",
    "6 Installs: 下載/安裝次數\n",
    "\n",
    "7 Type: 免費或付費\n",
    "\n",
    "8 Price: 價格\n",
    "\n",
    "9 Content Rating: 適用年齡組\n",
    "\n",
    "10 Genres: 類型\n",
    "\n",
    "11 Last Updated: 最後更新時間\n",
    "\n",
    "12 Current Ver: 當前提供版本\n",
    "\n",
    "13 Android Ver: Android最低版本限制"
   ]
  },
  {
   "cell_type": "markdown",
   "metadata": {},
   "source": [
    "## 4. 這組資料想解決的問題如何評估"
   ]
  },
  {
   "cell_type": "markdown",
   "metadata": {},
   "source": [
    "可以視為分類、分群問題。Accuracy、ROC"
   ]
  },
  {
   "cell_type": "markdown",
   "metadata": {},
   "source": [
    "# 作業2"
   ]
  },
  {
   "cell_type": "markdown",
   "metadata": {},
   "source": [
    "想像你經營一個自由載客車隊，你希望能透過數據分析以提升業績，請你思考並描述你如何規劃整體的分析/解決方案："
   ]
  },
  {
   "cell_type": "markdown",
   "metadata": {},
   "source": [
    "## 1. 核心問題為何 (tips：如何定義 「提升業績 & 你的假設」)"
   ]
  },
  {
   "cell_type": "markdown",
   "metadata": {},
   "source": [
    "分析出什麼時候什麼人希望收到什麼樣的載客服務，進而朝著定義出的目標來提升業績。"
   ]
  },
  {
   "cell_type": "markdown",
   "metadata": {},
   "source": [
    "## 2. 資料從何而來 (tips：哪些資料可能會對你想問的問題產生影響 & 資料如何蒐集)"
   ]
  },
  {
   "cell_type": "markdown",
   "metadata": {},
   "source": [
    "客源、搭乘時間、起始與目的地、載客尖峰與離峰時間、是否雨天、是否假日、金額\n",
    "\n",
    "可以透過讓司機在公司app上面進行資料輸入、選擇，甚至接到乘客時及時登錄所需資訊。"
   ]
  },
  {
   "cell_type": "markdown",
   "metadata": {},
   "source": [
    "## 3. 蒐集而來的資料型態為何"
   ]
  },
  {
   "cell_type": "markdown",
   "metadata": {},
   "source": [
    "結構化資料"
   ]
  },
  {
   "cell_type": "markdown",
   "metadata": {},
   "source": [
    "## 4. 你要回答的問題，其如何評估 (tips：你的假設如何驗證)"
   ]
  },
  {
   "cell_type": "markdown",
   "metadata": {},
   "source": [
    "Accuracy、ROC"
   ]
  },
  {
   "cell_type": "markdown",
   "metadata": {},
   "source": [
    "# 作業3"
   ]
  },
  {
   "cell_type": "markdown",
   "metadata": {},
   "source": [
    "## 練習時間\n",
    "#### 請寫一個函式用來計算 Mean Square Error\n",
    "$ MSE = \\frac{1}{n}\\sum_{i=1}^{n}{(Y_i - \\hat{Y}_i)^2} $\n",
    "\n",
    "### Hint: [如何取平方](https://googoodesign.gitbooks.io/-ezpython/unit-1.html)"
   ]
  },
  {
   "cell_type": "code",
   "execution_count": 1,
   "metadata": {},
   "outputs": [],
   "source": [
    "import numpy as np\n",
    "import matplotlib.pyplot as plt"
   ]
  },
  {
   "cell_type": "code",
   "execution_count": 2,
   "metadata": {},
   "outputs": [],
   "source": [
    "def mean_squared_error(y, yp):\n",
    "    mse = sum((y - yp)**2) / len(y)\n",
    "    return mse\n",
    "    \n",
    "\n",
    "def mean_absolute_error(y, yp):\n",
    "    mae = sum(abs(y - yp)) / len(y)\n",
    "    return mae"
   ]
  },
  {
   "cell_type": "code",
   "execution_count": 3,
   "metadata": {},
   "outputs": [
    {
     "data": {
      "image/png": "[encoded data removed]",
      "text/plain": [
       "<Figure size 432x288 with 1 Axes>"
      ]
     },
     "metadata": {
      "needs_background": "light"
     },
     "output_type": "display_data"
    }
   ],
   "source": [
    "w = 3\n",
    "b = 0.5\n",
    "\n",
    "x_lin = np.linspace(0, 100, 101)\n",
    "\n",
    "y = (x_lin + np.random.randn(101) * 5) * w + b\n",
    "\n",
    "plt.plot(x_lin, y, 'b.', label = 'data points')\n",
    "plt.title(\"Assume we have data points\")\n",
    "plt.legend(loc = 2)\n",
    "plt.show()"
   ]
  },
  {
   "cell_type": "code",
   "execution_count": 4,
   "metadata": {},
   "outputs": [
    {
     "data": {
      "image/png": "[encoded data removed]",
      "text/plain": [
       "<Figure size 432x288 with 1 Axes>"
      ]
     },
     "metadata": {
      "needs_background": "light"
     },
     "output_type": "display_data"
    }
   ],
   "source": [
    "y_hat = x_lin * w + b\n",
    "plt.plot(x_lin, y, 'b.', label = 'data')\n",
    "plt.plot(x_lin, y_hat, 'r-', label = 'prediction')\n",
    "plt.title(\"Assume we have data points (And the prediction)\")\n",
    "plt.legend(loc = 2)\n",
    "plt.show()"
   ]
  },
  {
   "cell_type": "code",
   "execution_count": 5,
   "metadata": {},
   "outputs": [
    {
     "name": "stdout",
     "output_type": "stream",
     "text": [
      "The Mean squared error is 231.033\n",
      "The Mean absolute error is 12.403\n"
     ]
    }
   ],
   "source": [
    "# 執行 Function, 確認有沒有正常執行\n",
    "MSE = mean_squared_error(y, y_hat)\n",
    "MAE = mean_absolute_error(y, y_hat)\n",
    "print(\"The Mean squared error is %.3f\" % (MSE))\n",
    "print(\"The Mean absolute error is %.3f\" % (MAE))"
   ]
  }
 ],
 "metadata": {
  "anaconda-cloud": {},
  "kernelspec": {
   "display_name": "Python 3",
   "language": "python",
   "name": "python3"
  },
  "language_info": {
   "codemirror_mode": {
    "name": "ipython",
    "version": 3
   },
   "file_extension": ".py",
   "mimetype": "text/x-python",
   "name": "python",
   "nbconvert_exporter": "python",
   "pygments_lexer": "ipython3",
   "version": "3.7.2"
  }
 },
 "nbformat": 4,
 "nbformat_minor": 1
}
