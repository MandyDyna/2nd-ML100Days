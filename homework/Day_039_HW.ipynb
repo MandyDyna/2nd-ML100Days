{
 "cells": [
  {
   "cell_type": "markdown",
   "metadata": {},
   "source": [
    "## [作業重點]\n",
    "清楚了解 L1, L2 的意義與差異為何，並了解 LASSO 與 Ridge 之間的差異與使用情境"
   ]
  },
  {
   "cell_type": "markdown",
   "metadata": {},
   "source": [
    "## 作業"
   ]
  },
  {
   "cell_type": "markdown",
   "metadata": {},
   "source": [
    "請閱讀相關文獻，並回答下列問題\n",
    "\n",
    "[脊回歸 (Ridge Regression)](https://blog.csdn.net/daunxx/article/details/51578787)\n",
    "[Linear, Ridge, Lasso Regression 本質區別](https://www.zhihu.com/question/38121173)\n",
    "\n",
    "1. LASSO 回歸可以被用來作為 Feature selection 的工具，請了解 LASSO 模型為什麼可用來作 Feature selection\n",
    "2. 當自變數 (X) 存在高度共線性時，Ridge Regression 可以處理這樣的問題嗎?\n"
   ]
  },
  {
   "cell_type": "markdown",
   "metadata": {},
   "source": [
    "1."
   ]
  },
  {
   "cell_type": "markdown",
   "metadata": {},
   "source": [
    "LASSO是L1正則，Ridge是L2正則。\n",
    "\n",
    "而L1正則與L2正則的不同就在於L1在和每個坐標軸相交的地方都有“角”出現，而目標函數的測地線除非位置擺得非常好，大部分時候都會在角的地方相交。\n",
    "\n",
    "注意到在角的位置就會產生稀疏性，而更高維的時候除了角點以外，還有很多邊的輪廓也是既有很大的概率成為第一次相交的地方，又會產生稀疏性。\n",
    "\n",
    "L1會趨向於產生少量的特徵，而其他的特徵都是0，而L2會選擇更多的特徵，這些特徵都會接近於0。Lasso在特徵選擇時候非常有用，而Ridge就只是一種規則化而已。"
   ]
  },
  {
   "cell_type": "markdown",
   "metadata": {},
   "source": [
    "2."
   ]
  },
  {
   "cell_type": "markdown",
   "metadata": {},
   "source": [
    "脊迴歸是一種修改最小平方法，允許有偏估計量，進而改善多元共線性的方法\n",
    "\n",
    "假設真實值為β，不偏估計式所求得統計量為b，有偏估計式所求得統計量為bR\n",
    "\n",
    "而脊迴歸的方程式，是在原先普通最小平方法【(X’X)b=X’Y】的標準方程式中，加入一個偏化常數（biasing constant）c，c≧0，\n",
    "所得脊標準化迴歸方程式為（rXX+cI）bR = rYX。\n",
    "\n",
    "脊迴歸分析在進行時，由小到大代入不同的c值，去檢視每次的估計結果是否比普通最小平方估計量b有更小的總均方誤差，雖然c值越大可得到更小的總均方誤差，但c值越大會使得估計結果的偏誤不斷擴大，因此c值並沒有最佳解答，建議會同時使用脊跡（ridge trace）與變異數膨脹因子（VIF）作為判斷偏化常數的依據。"
   ]
  },
  {
   "cell_type": "code",
   "execution_count": 11,
   "metadata": {},
   "outputs": [
    {
     "name": "stdout",
     "output_type": "stream",
     "text": [
      "[[1.         0.5        0.33333333 0.25       0.2       ]\n",
      " [0.5        0.33333333 0.25       0.2        0.16666667]\n",
      " [0.33333333 0.25       0.2        0.16666667 0.14285714]\n",
      " [0.25       0.2        0.16666667 0.14285714 0.125     ]\n",
      " [0.2        0.16666667 0.14285714 0.125      0.11111111]\n",
      " [0.16666667 0.14285714 0.125      0.11111111 0.1       ]\n",
      " [0.14285714 0.125      0.11111111 0.1        0.09090909]\n",
      " [0.125      0.11111111 0.1        0.09090909 0.08333333]\n",
      " [0.11111111 0.1        0.09090909 0.08333333 0.07692308]\n",
      " [0.1        0.09090909 0.08333333 0.07692308 0.07142857]]\n"
     ]
    }
   ],
   "source": [
    "import numpy as np\n",
    "import matplotlib.pyplot as plt\n",
    "from sklearn import linear_model\n",
    "X = 1. / (np.arange(1, 6) + np.arange(0, 10)[:, np.newaxis])\n",
    "y = np.ones(10)\n",
    "print(X)"
   ]
  },
  {
   "cell_type": "code",
   "execution_count": 12,
   "metadata": {},
   "outputs": [
    {
     "name": "stdout",
     "output_type": "stream",
     "text": [
      "[1.00000000e-10 1.09698580e-10 1.20337784e-10 1.32008840e-10\n",
      " 1.44811823e-10 1.58856513e-10 1.74263339e-10 1.91164408e-10\n",
      " 2.09704640e-10 2.30043012e-10 2.52353917e-10 2.76828663e-10\n",
      " 3.03677112e-10 3.33129479e-10 3.65438307e-10 4.00880633e-10\n",
      " 4.39760361e-10 4.82410870e-10 5.29197874e-10 5.80522552e-10\n",
      " 6.36824994e-10 6.98587975e-10 7.66341087e-10 8.40665289e-10\n",
      " 9.22197882e-10 1.01163798e-09 1.10975250e-09 1.21738273e-09\n",
      " 1.33545156e-09 1.46497140e-09 1.60705282e-09 1.76291412e-09\n",
      " 1.93389175e-09 2.12145178e-09 2.32720248e-09 2.55290807e-09\n",
      " 2.80050389e-09 3.07211300e-09 3.37006433e-09 3.69691271e-09\n",
      " 4.05546074e-09 4.44878283e-09 4.88025158e-09 5.35356668e-09\n",
      " 5.87278661e-09 6.44236351e-09 7.06718127e-09 7.75259749e-09\n",
      " 8.50448934e-09 9.32930403e-09 1.02341140e-08 1.12266777e-08\n",
      " 1.23155060e-08 1.35099352e-08 1.48202071e-08 1.62575567e-08\n",
      " 1.78343088e-08 1.95639834e-08 2.14614120e-08 2.35428641e-08\n",
      " 2.58261876e-08 2.83309610e-08 3.10786619e-08 3.40928507e-08\n",
      " 3.73993730e-08 4.10265811e-08 4.50055768e-08 4.93704785e-08\n",
      " 5.41587138e-08 5.94113398e-08 6.51733960e-08 7.14942899e-08\n",
      " 7.84282206e-08 8.60346442e-08 9.43787828e-08 1.03532184e-07\n",
      " 1.13573336e-07 1.24588336e-07 1.36671636e-07 1.49926843e-07\n",
      " 1.64467618e-07 1.80418641e-07 1.97916687e-07 2.17111795e-07\n",
      " 2.38168555e-07 2.61267523e-07 2.86606762e-07 3.14403547e-07\n",
      " 3.44896226e-07 3.78346262e-07 4.15040476e-07 4.55293507e-07\n",
      " 4.99450512e-07 5.47890118e-07 6.01027678e-07 6.59318827e-07\n",
      " 7.23263390e-07 7.93409667e-07 8.70359136e-07 9.54771611e-07\n",
      " 1.04737090e-06 1.14895100e-06 1.26038293e-06 1.38262217e-06\n",
      " 1.51671689e-06 1.66381689e-06 1.82518349e-06 2.00220037e-06\n",
      " 2.19638537e-06 2.40940356e-06 2.64308149e-06 2.89942285e-06\n",
      " 3.18062569e-06 3.48910121e-06 3.82749448e-06 4.19870708e-06\n",
      " 4.60592204e-06 5.05263107e-06 5.54266452e-06 6.08022426e-06\n",
      " 6.66991966e-06 7.31680714e-06 8.02643352e-06 8.80488358e-06\n",
      " 9.65883224e-06 1.05956018e-05 1.16232247e-05 1.27505124e-05\n",
      " 1.39871310e-05 1.53436841e-05 1.68318035e-05 1.84642494e-05\n",
      " 2.02550194e-05 2.22194686e-05 2.43744415e-05 2.67384162e-05\n",
      " 2.93316628e-05 3.21764175e-05 3.52970730e-05 3.87203878e-05\n",
      " 4.24757155e-05 4.65952567e-05 5.11143348e-05 5.60716994e-05\n",
      " 6.15098579e-05 6.74754405e-05 7.40196000e-05 8.11984499e-05\n",
      " 8.90735464e-05 9.77124154e-05 1.07189132e-04 1.17584955e-04\n",
      " 1.28989026e-04 1.41499130e-04 1.55222536e-04 1.70276917e-04\n",
      " 1.86791360e-04 2.04907469e-04 2.24780583e-04 2.46581108e-04\n",
      " 2.70495973e-04 2.96730241e-04 3.25508860e-04 3.57078596e-04\n",
      " 3.91710149e-04 4.29700470e-04 4.71375313e-04 5.17092024e-04\n",
      " 5.67242607e-04 6.22257084e-04 6.82607183e-04 7.48810386e-04\n",
      " 8.21434358e-04 9.01101825e-04 9.88495905e-04 1.08436597e-03\n",
      " 1.18953407e-03 1.30490198e-03 1.43145894e-03 1.57029012e-03\n",
      " 1.72258597e-03 1.88965234e-03 2.07292178e-03 2.27396575e-03\n",
      " 2.49450814e-03 2.73644000e-03 3.00183581e-03 3.29297126e-03\n",
      " 3.61234270e-03 3.96268864e-03 4.34701316e-03 4.76861170e-03\n",
      " 5.23109931e-03 5.73844165e-03 6.29498899e-03 6.90551352e-03\n",
      " 7.57525026e-03 8.30994195e-03 9.11588830e-03 1.00000000e-02]\n"
     ]
    }
   ],
   "source": [
    "# alpha 取值为10^（-10）到10^（-2）之间的连续的200个值\n",
    "n_alphas = 200\n",
    "alphas = np.logspace(-10, -2, n_alphas)\n",
    "print(alphas)"
   ]
  },
  {
   "cell_type": "code",
   "execution_count": 13,
   "metadata": {},
   "outputs": [
    {
     "name": "stderr",
     "output_type": "stream",
     "text": [
      "C:\\ProgramData\\Anaconda3\\lib\\site-packages\\ipykernel_launcher.py:15: MatplotlibDeprecationWarning: The set_color_cycle function was deprecated in version 1.5. Use `.set_prop_cycle` instead.\n",
      "  from ipykernel import kernelapp as app\n"
     ]
    },
    {
     "data": {
      "image/png": "[encoded data removed]",
      "text/plain": [
       "<Figure size 432x288 with 1 Axes>"
      ]
     },
     "metadata": {
      "needs_background": "light"
     },
     "output_type": "display_data"
    }
   ],
   "source": [
    "# 初始化一个Ridge Regression\n",
    "clf = linear_model.Ridge(fit_intercept=False)\n",
    "\n",
    "# 参数矩阵，即每一个alpha对于的参数所组成的矩阵\n",
    "coefs = []\n",
    "# 根据不同的alpha训练出不同的模型参数\n",
    "for a in alphas:\n",
    "    clf.set_params(alpha=a)\n",
    "    clf.fit(X, y)\n",
    "    coefs.append(clf.coef_)\n",
    "\n",
    "# 获得绘图句柄\n",
    "ax = plt.gca()\n",
    "# 参数中每一个维度使用一个颜色表示\n",
    "ax.set_color_cycle(['b', 'r', 'g', 'c', 'k'])\n",
    "\n",
    "# 绘制alpha和对应的参数之间的关系图\n",
    "ax.plot(alphas, coefs)\n",
    "ax.set_xscale('log')    #x轴使用对数表示\n",
    "ax.set_xlim(ax.get_xlim()[::-1])  # 将x轴反转，便于显示\n",
    "plt.grid()\n",
    "plt.xlabel('alpha')\n",
    "plt.ylabel('weights')\n",
    "plt.title('Ridge coefficients as a function of the regularization')\n",
    "plt.axis('tight')\n",
    "plt.show()\n"
   ]
  }
 ],
 "metadata": {
  "kernelspec": {
   "display_name": "Python 3",
   "language": "python",
   "name": "python3"
  },
  "language_info": {
   "codemirror_mode": {
    "name": "ipython",
    "version": 3
   },
   "file_extension": ".py",
   "mimetype": "text/x-python",
   "name": "python",
   "nbconvert_exporter": "python",
   "pygments_lexer": "ipython3",
   "version": "3.7.0"
  }
 },
 "nbformat": 4,
 "nbformat_minor": 2
}
