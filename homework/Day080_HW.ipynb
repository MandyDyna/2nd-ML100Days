{
 "cells": [
  {
   "cell_type": "markdown",
   "metadata": {},
   "source": [
    "# 請結合前面的知識與程式碼，比較不同的 optimizer 與 learning rate 組合對訓練的結果與影響\n",
    "### 常見的 optimizer 包含\n",
    "* SGD\n",
    "* RMSprop\n",
    "* AdaGrad\n",
    "* Adam"
   ]
  },
  {
   "cell_type": "code",
   "execution_count": 1,
   "metadata": {},
   "outputs": [
    {
     "name": "stderr",
     "output_type": "stream",
     "text": [
      "Using TensorFlow backend.\n"
     ]
    }
   ],
   "source": [
    "import os\n",
    "import keras\n",
    "\n",
    "# Disable GPU\n",
    "os.environ[\"CUDA_VISIBLE_DEVICES\"] = \"\""
   ]
  },
  {
   "cell_type": "code",
   "execution_count": 2,
   "metadata": {},
   "outputs": [],
   "source": [
    "train, test = keras.datasets.cifar10.load_data()"
   ]
  },
  {
   "cell_type": "code",
   "execution_count": 3,
   "metadata": {},
   "outputs": [],
   "source": [
    "## 資料前處理\n",
    "def preproc_x(x, flatten=True):\n",
    "    x = x / 255.\n",
    "    if flatten:\n",
    "        x = x.reshape((len(x), -1))\n",
    "    return x\n",
    "\n",
    "def preproc_y(y, num_classes=10):\n",
    "    if y.shape[-1] == 1:\n",
    "        y = keras.utils.to_categorical(y, num_classes)\n",
    "    return y    "
   ]
  },
  {
   "cell_type": "code",
   "execution_count": 4,
   "metadata": {},
   "outputs": [],
   "source": [
    "x_train, y_train = train\n",
    "x_test, y_test = test\n",
    "\n",
    "# Preproc the inputs\n",
    "x_train = preproc_x(x_train)\n",
    "x_test = preproc_x(x_test)\n",
    "\n",
    "# Preprc the outputs\n",
    "y_train = preproc_y(y_train)\n",
    "y_test = preproc_y(y_test)"
   ]
  },
  {
   "cell_type": "code",
   "execution_count": 5,
   "metadata": {},
   "outputs": [],
   "source": [
    "def build_mlp(input_shape, output_units=10, num_neurons=[512, 256, 128]):\n",
    "    \"\"\"\n",
    "    Build your own model\n",
    "    \"\"\"\n",
    "    input_layer = keras.layers.Input(input_shape)\n",
    "    \n",
    "    for i, n_units in enumerate(num_neurons):\n",
    "        if i == 0:\n",
    "            x = keras.layers.Dense(units=n_units, activation=\"relu\", name=\"hidden_layer\"+str(i+1))(input_layer)\n",
    "        else:\n",
    "            x = keras.layers.Dense(units=n_units, activation=\"relu\", name=\"hidden_layer\"+str(i+1))(x)\n",
    "    \n",
    "    out = keras.layers.Dense(units=output_units, activation=\"softmax\", name=\"output\")(x)\n",
    "    \n",
    "    model = keras.models.Model(inputs=[input_layer], outputs=[out])\n",
    "    return model"
   ]
  },
  {
   "cell_type": "code",
   "execution_count": 6,
   "metadata": {},
   "outputs": [],
   "source": [
    "## 超參數設定\n",
    "\"\"\"\n",
    "Set your required experiment parameters\n",
    "\"\"\"\n",
    "LEARNING_RATE = [0.01, 0.001]\n",
    "EPOCHS = 40\n",
    "BATCH_SIZE = 256\n",
    "MOMENTUM = 0.95"
   ]
  },
  {
   "cell_type": "code",
   "execution_count": 8,
   "metadata": {},
   "outputs": [
    {
     "name": "stdout",
     "output_type": "stream",
     "text": [
      "WARNING:tensorflow:From C:\\Users\\User\\Anaconda3\\envs\\keras37\\lib\\site-packages\\tensorflow\\python\\framework\\op_def_library.py:263: colocate_with (from tensorflow.python.framework.ops) is deprecated and will be removed in a future version.\n",
      "Instructions for updating:\n",
      "Colocations handled automatically by placer.\n"
     ]
    }
   ],
   "source": [
    "sgd_0 = keras.optimizers.SGD(lr=LEARNING_RATE[0], nesterov=True, momentum=MOMENTUM)\n",
    "rmsprop_0 = keras.optimizers.RMSprop(lr=LEARNING_RATE[0], rho=0.9, epsilon=None, decay=0.0)\n",
    "adagrad_0 = keras.optimizers.Adagrad(lr=LEARNING_RATE[0], epsilon=None, decay=0.0)\n",
    "adam_0  = keras.optimizers.Adam(lr=LEARNING_RATE[0], beta_1=0.9, beta_2=0.999, epsilon=None, decay=0.0, amsgrad=False)\n",
    "\n",
    "sgd_1 = keras.optimizers.SGD(lr=LEARNING_RATE[1], nesterov=True, momentum=MOMENTUM)\n",
    "rmsprop_1 = keras.optimizers.RMSprop(lr=LEARNING_RATE[1], rho=0.9, epsilon=None, decay=0.0)\n",
    "adagrad_1 = keras.optimizers.Adagrad(lr=LEARNING_RATE[1], epsilon=None, decay=0.0)\n",
    "adam_1  = keras.optimizers.Adam(lr=LEARNING_RATE[1], beta_1=0.9, beta_2=0.999, epsilon=None, decay=0.0, amsgrad=False)\n",
    "\n",
    "\n",
    "'''\n",
    "sgd = []\n",
    "for lr in LEARNING_RATE:\n",
    "    sgd[LEARNING_RATE.index(lr)] = keras.optimizers.SGD(lr=lr, nesterov=True, momentum=MOMENTUM)\n",
    "    rmsprop = keras.optimizers.RMSprop(lr=lr, rho=0.9, epsilon=None, decay=0.0)\n",
    "    adagrad = keras.optimizers.Adagrad(lr=lr, epsilon=None, decay=0.0)\n",
    "    adam  = keras.optimizers.Adam(lr=lr, beta_1=0.9, beta_2=0.999, epsilon=None, decay=0.0, amsgrad=False)\n",
    "    \n",
    "'''\n",
    "OPTIMIZER = [sgd_0, rmsprop_0, adagrad_0, adam_0, sgd_1, rmsprop_1, adagrad_1, adam_1]"
   ]
  },
  {
   "cell_type": "code",
   "execution_count": 20,
   "metadata": {},
   "outputs": [],
   "source": [
    "keras.backend.clear_session()"
   ]
  },
  {
   "cell_type": "code",
   "execution_count": null,
   "metadata": {
    "scrolled": true
   },
   "outputs": [
    {
     "name": "stdout",
     "output_type": "stream",
     "text": [
      "_________________________________________________________________\n",
      "Layer (type)                 Output Shape              Param #   \n",
      "=================================================================\n",
      "input_1 (InputLayer)         (None, 3072)              0         \n",
      "_________________________________________________________________\n",
      "hidden_layer1 (Dense)        (None, 512)               1573376   \n",
      "_________________________________________________________________\n",
      "hidden_layer2 (Dense)        (None, 256)               131328    \n",
      "_________________________________________________________________\n",
      "hidden_layer3 (Dense)        (None, 128)               32896     \n",
      "_________________________________________________________________\n",
      "output (Dense)               (None, 10)                1290      \n",
      "=================================================================\n",
      "Total params: 1,738,890\n",
      "Trainable params: 1,738,890\n",
      "Non-trainable params: 0\n",
      "_________________________________________________________________\n",
      "Train on 50000 samples, validate on 10000 samples\n",
      "Epoch 1/40\n",
      "50000/50000 [==============================] - 11s 219us/step - loss: 1.8233 - acc: 0.3492 - val_loss: 1.7023 - val_acc: 0.3859\n",
      "Epoch 2/40\n",
      "50000/50000 [==============================] - 10s 195us/step - loss: 1.5963 - acc: 0.4335 - val_loss: 1.6949 - val_acc: 0.4001\n",
      "Epoch 3/40\n",
      "50000/50000 [==============================] - 10s 195us/step - loss: 1.5048 - acc: 0.4651 - val_loss: 1.5445 - val_acc: 0.4444s: 1.5082 - acc: 0.4 - ET\n",
      "Epoch 4/40\n",
      "50000/50000 [==============================] - 10s 193us/step - loss: 1.4461 - acc: 0.4867 - val_loss: 1.4625 - val_acc: 0.4785\n",
      "Epoch 5/40\n",
      "50000/50000 [==============================] - 10s 195us/step - loss: 1.3973 - acc: 0.5022 - val_loss: 1.4240 - val_acc: 0.4938\n",
      "Epoch 6/40\n",
      "50000/50000 [==============================] - 10s 196us/step - loss: 1.3564 - acc: 0.5161 - val_loss: 1.4834 - val_acc: 0.4684\n",
      "Epoch 7/40\n",
      "50000/50000 [==============================] - 10s 198us/step - loss: 1.3176 - acc: 0.5300 - val_loss: 1.4660 - val_acc: 0.4809\n",
      "Epoch 8/40\n",
      "50000/50000 [==============================] - 10s 198us/step - loss: 1.2823 - acc: 0.5435 - val_loss: 1.3851 - val_acc: 0.5086\n",
      "Epoch 9/40\n",
      "50000/50000 [==============================] - 10s 200us/step - loss: 1.2529 - acc: 0.5541 - val_loss: 1.3811 - val_acc: 0.5141\n",
      "Epoch 10/40\n",
      "50000/50000 [==============================] - 10s 202us/step - loss: 1.2218 - acc: 0.5649 - val_loss: 1.3678 - val_acc: 0.5107\n",
      "Epoch 11/40\n",
      "50000/50000 [==============================] - 11s 213us/step - loss: 1.1909 - acc: 0.5756 - val_loss: 1.3593 - val_acc: 0.5184\n",
      "Epoch 12/40\n",
      "50000/50000 [==============================] - 10s 202us/step - loss: 1.1640 - acc: 0.5864 - val_loss: 1.3595 - val_acc: 0.5246\n",
      "Epoch 13/40\n",
      "50000/50000 [==============================] - 10s 208us/step - loss: 1.1359 - acc: 0.5954 - val_loss: 1.3807 - val_acc: 0.5150\n",
      "Epoch 14/40\n",
      "21504/50000 [===========>..................] - ETA: 5s - loss: 1.1104 - acc: 0.6058- ETA: 6s - loss: 1.11"
     ]
    }
   ],
   "source": [
    "results = {}\n",
    "\n",
    "\"\"\"\n",
    "建立你的訓練與實驗迴圈並蒐集資料\n",
    "\"\"\"\n",
    "for lr in LEARNING_RATE:\n",
    "    keras.backend.clear_session() # 把舊的 Graph 清掉\n",
    "    # print(\"Experiment with LR = %.6f\" % (lr))\n",
    "    model = build_mlp(input_shape=x_train.shape[1:])\n",
    "    model.summary()\n",
    "    \n",
    "    sgd = keras.optimizers.SGD(lr=lr, nesterov=True, momentum=MOMENTUM)\n",
    "    '''\n",
    "    rmsprop = keras.optimizers.RMSprop(lr=LEARNING_RATE[0], rho=0.9, epsilon=None, decay=0.0)\n",
    "    adagrad = keras.optimizers.Adagrad(lr=LEARNING_RATE[0], epsilon=None, decay=0.0)\n",
    "    adam  = keras.optimizers.Adam(lr=LEARNING_RATE[0], beta_1=0.9, beta_2=0.999, epsilon=None, decay=0.0, amsgrad=False)\n",
    "    '''\n",
    "    model.compile(loss=\"categorical_crossentropy\", metrics=[\"accuracy\"], optimizer=sgd)\n",
    "\n",
    "    model.fit(x_train, y_train,\n",
    "              epochs=EPOCHS, \n",
    "              batch_size=BATCH_SIZE, \n",
    "              validation_data=(x_test, y_test),\n",
    "              shuffle=True)\n",
    "    \n",
    "    # Collect results\n",
    "    train_loss = model.history.history[\"loss\"]\n",
    "    valid_loss = model.history.history[\"val_loss\"]\n",
    "    train_acc = model.history.history[\"acc\"]\n",
    "    valid_acc = model.history.history[\"val_acc\"]\n",
    "    \n",
    "    exp_name_tag = \"exp-lr-%s\" % str(lr)\n",
    "    results[exp_name_tag] = {'train-loss': train_loss,\n",
    "                             'valid-loss': valid_loss,\n",
    "                             'train-acc': train_acc,\n",
    "                             'valid-acc': valid_acc}"
   ]
  },
  {
   "cell_type": "code",
   "execution_count": null,
   "metadata": {},
   "outputs": [],
   "source": [
    "import matplotlib.pyplot as plt\n",
    "%matplotlib inline\n",
    "\n",
    "\"\"\"\n",
    "將實驗結果繪出\n",
    "\"\"\""
   ]
  }
 ],
 "metadata": {
  "kernelspec": {
   "display_name": "Python 3",
   "language": "python",
   "name": "python3"
  },
  "language_info": {
   "codemirror_mode": {
    "name": "ipython",
    "version": 3
   },
   "file_extension": ".py",
   "mimetype": "text/x-python",
   "name": "python",
   "nbconvert_exporter": "python",
   "pygments_lexer": "ipython3",
   "version": "3.7.3"
  }
 },
 "nbformat": 4,
 "nbformat_minor": 2
}
