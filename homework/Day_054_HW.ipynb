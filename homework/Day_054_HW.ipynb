{
 "cells": [
  {
   "cell_type": "markdown",
   "metadata": {},
   "source": [
    "# 作業\n",
    "* 試著想想看, 非監督學習是否有可能使用評價函數 (Metric) 來鑑別好壞呢?  \n",
    "(Hint : 可以分為 \"有目標值\" 與 \"無目標值\" 兩個方向思考)"
   ]
  },
  {
   "cell_type": "markdown",
   "metadata": {
    "collapsed": true
   },
   "source": [
    "可以使用評價函數 (Metric) 來鑑別好壞"
   ]
  },
  {
   "cell_type": "markdown",
   "metadata": {},
   "source": [
    "有目標值：\n",
    "\n",
    "1. Purity方法\n",
    "2. RI方法(Rand index蘭德指數)\n",
    "3. F值方法"
   ]
  },
  {
   "cell_type": "markdown",
   "metadata": {},
   "source": [
    "無目標值：只能通過類內聚合度、類間低耦合的原則來作為指導思想\n",
    "\n",
    "1. Compactness(緊密性)(CP)\n",
    "2. Separation(間隔性)(SP)\n",
    "3. Davies-Bouldin Index(戴維森堡丁指數)(分類適確性指標)(DBI)\n",
    "4. Dunn Validity Index (鄧恩指數)(DVI)"
   ]
  },
  {
   "cell_type": "markdown",
   "metadata": {},
   "source": [
    "# 參考資料"
   ]
  },
  {
   "cell_type": "markdown",
   "metadata": {},
   "source": [
    "https://blog.csdn.net/u013709270/article/details/74276533"
   ]
  }
 ],
 "metadata": {
  "kernelspec": {
   "display_name": "Python 3",
   "language": "python",
   "name": "python3"
  },
  "language_info": {
   "codemirror_mode": {
    "name": "ipython",
    "version": 3
   },
   "file_extension": ".py",
   "mimetype": "text/x-python",
   "name": "python",
   "nbconvert_exporter": "python",
   "pygments_lexer": "ipython3",
   "version": "3.7.0"
  }
 },
 "nbformat": 4,
 "nbformat_minor": 1
}
